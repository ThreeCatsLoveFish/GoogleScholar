{
 "cells": [
  {
   "cell_type": "markdown",
   "metadata": {},
   "source": [
    "*IMPORTANT: Before using this script, make sure you have executed `citation_helper.py`!!!*"
   ]
  },
  {
   "cell_type": "markdown",
   "metadata": {},
   "source": [
    "# Bib grabber\n",
    "\n",
    "For each bib.tex file we need to send two requests to the server, greatly increasing the risk of being rate-limited.\n",
    "\n",
    "This notebook is a simple way to grab all the bib files with resume from break point."
   ]
  },
  {
   "cell_type": "markdown",
   "metadata": {},
   "source": [
    "### Initialize packages"
   ]
  },
  {
   "cell_type": "code",
   "execution_count": null,
   "metadata": {},
   "outputs": [],
   "source": [
    "import json\n",
    "import os\n",
    "import sys\n",
    "import time\n",
    "from tqdm import tqdm\n",
    "import re\n",
    "import requests"
   ]
  },
  {
   "cell_type": "code",
   "execution_count": null,
   "metadata": {},
   "outputs": [],
   "source": [
    "proxies = {\n",
    "    \"http\": \"http://127.0.0.1:10809/\",\n",
    "    \"https\": \"http://127.0.0.1:10809/\"\n",
    "}"
   ]
  },
  {
   "cell_type": "code",
   "execution_count": null,
   "metadata": {},
   "outputs": [],
   "source": [
    "headers = {\n",
    "    \"User-Agent\": \"Mozilla/5.0 (Windows NT 10.0; Win64; x64; rv:122.0) Gecko/20100101 Firefox/122.0\",\n",
    "    \"Accept\": \"text/html,application/xhtml+xml,application/xml;q=0.9,image/avif,image/webp,*/*;q=0.8\",\n",
    "    \"Accept-Language\": \"zh-CN,zh;q=0.8,zh-TW;q=0.7,zh-HK;q=0.5,en-US;q=0.3,en;q=0.2\",\n",
    "    \"Accept-Encoding\": \"gzip, deflate, br\",\n",
    "    \"Connection\": \"keep-alive\",\n",
    "    \"Cookie\": \"\"\n",
    "}"
   ]
  },
  {
   "cell_type": "markdown",
   "metadata": {},
   "source": [
    "### Setup bs4"
   ]
  },
  {
   "cell_type": "code",
   "execution_count": null,
   "metadata": {},
   "outputs": [],
   "source": [
    "import warnings\n",
    "from bs4 import BeautifulSoup\n",
    "\n",
    "\n",
    "class SoupKitchen(object):\n",
    "    \"\"\"Factory for creating BeautifulSoup instances.\"\"\"\n",
    "\n",
    "    @staticmethod\n",
    "    def make_soup(markup, parser=None):\n",
    "        \"\"\"Factory method returning a BeautifulSoup instance. The created\n",
    "        instance will use a parser of the given name, if supported by\n",
    "        the underlying BeautifulSoup instance.\n",
    "        \"\"\"\n",
    "        if 'bs4' in sys.modules:\n",
    "            # We support parser specification. If the caller didn't\n",
    "            # specify one, leave it to BeautifulSoup to pick the most\n",
    "            # suitable one, but suppress the user warning that asks to\n",
    "            # select the most suitable parser ... which BS then\n",
    "            # selects anyway.\n",
    "            if parser is None:\n",
    "                warnings.filterwarnings('ignore', 'No parser was explicitly specified')\n",
    "            return BeautifulSoup(markup, parser)\n",
    "\n",
    "        return BeautifulSoup(markup)"
   ]
  },
  {
   "cell_type": "code",
   "execution_count": null,
   "metadata": {},
   "outputs": [],
   "source": [
    "def get_http_response(url):\n",
    "    \"\"\"\n",
    "    Helper method, sends HTTP request and returns response payload.\n",
    "    \"\"\"\n",
    "    time.sleep(5)\n",
    "    try:\n",
    "        resp = requests.get(url, headers=headers, proxies=proxies)\n",
    "        if resp.status_code != 200:\n",
    "            print(f\"Failed to fetch {url}, status code {resp.status_code}\")\n",
    "            print(resp.text)\n",
    "            return None\n",
    "        return resp.text\n",
    "    except Exception as err:\n",
    "        return None"
   ]
  },
  {
   "cell_type": "code",
   "execution_count": null,
   "metadata": {},
   "outputs": [],
   "source": [
    "def get_citation_data(aid):\n",
    "    \"\"\"\n",
    "    Given an article, retrieves citation link. Note, this requires that\n",
    "    you adjusted the settings to tell Google Scholar to actually\n",
    "    provide this information, *prior* to retrieving the article.\n",
    "    \"\"\"\n",
    "    urlargs = {'aid': aid}\n",
    "    GET_CITATION_URL = 'https://scholar.google.com/scholar?' \\\n",
    "                       + 'q=info:%(aid)s:scholar.google.com/' \\\n",
    "                       + '&output=cite&scirp=0&hl=en'\n",
    "    html = get_http_response(url=GET_CITATION_URL % urlargs)\n",
    "    if html is None:\n",
    "        return None\n",
    "\n",
    "    soup = SoupKitchen.make_soup(html)\n",
    "\n",
    "    tag = soup.findAll('a')\n",
    "    if tag is None:\n",
    "        return None\n",
    "    \n",
    "    url_citation = re.sub(r'scisf:%d', 'scisf:4', tag[0]['href'])\n",
    "    data = get_http_response(url=url_citation)\n",
    "    if data is None:\n",
    "        return None\n",
    "\n",
    "    return data"
   ]
  },
  {
   "cell_type": "markdown",
   "metadata": {},
   "source": [
    "### Load original raw files"
   ]
  },
  {
   "cell_type": "code",
   "execution_count": null,
   "metadata": {},
   "outputs": [],
   "source": [
    "pl = os.listdir('../output/raw/')"
   ]
  },
  {
   "cell_type": "code",
   "execution_count": null,
   "metadata": {},
   "outputs": [],
   "source": [
    "for p in pl:\n",
    "    content = ''\n",
    "    with open('../output/raw/' + p, 'r', encoding='utf-8') as f:\n",
    "        content = f.read()\n",
    "    aids = re.findall(r'aid (.*)', content)\n",
    "    output_file = '../output/' + p + '.json'\n",
    "    if os.path.exists(output_file):\n",
    "        data = json.load(open(output_file, 'r', encoding='utf-8'))\n",
    "    else:\n",
    "        data = {}\n",
    "    if (len(data) == len(aids)):\n",
    "        print(f\"{p} finished\")\n",
    "        continue\n",
    "    for aid in tqdm(aids):\n",
    "        if aid in data:\n",
    "            continue\n",
    "        citation_data = get_citation_data(aid)\n",
    "        if citation_data is None:\n",
    "            break\n",
    "        data[aid] = citation_data\n",
    "        time.sleep(1)\n",
    "    with open(output_file, 'w', encoding='utf-8') as f:\n",
    "        json.dump(data, f, ensure_ascii=False, indent=4)\n",
    "    print(f\"{p} finished\")"
   ]
  },
  {
   "cell_type": "code",
   "execution_count": null,
   "metadata": {},
   "outputs": [],
   "source": [
    "ans = os.listdir('../output/')"
   ]
  },
  {
   "cell_type": "markdown",
   "metadata": {},
   "source": [
    "### Transfer json to tex file"
   ]
  },
  {
   "cell_type": "code",
   "execution_count": null,
   "metadata": {},
   "outputs": [],
   "source": [
    "os.makedirs('./bibs', exist_ok=True)\n",
    "\n",
    "for a in ans:\n",
    "    output_file = '../output/' + a\n",
    "    data = json.load(open(output_file, 'r', encoding='utf-8'))\n",
    "    with open('./bibs/' + a[:-5], 'a', encoding='utf-8') as f:\n",
    "        for k, v in data.items():\n",
    "            f.write(v)\n",
    "            f.write('\\n')"
   ]
  }
 ],
 "metadata": {
  "kernelspec": {
   "display_name": "base",
   "language": "python",
   "name": "python3"
  },
  "language_info": {
   "codemirror_mode": {
    "name": "ipython",
    "version": 3
   },
   "file_extension": ".py",
   "mimetype": "text/x-python",
   "name": "python",
   "nbconvert_exporter": "python",
   "pygments_lexer": "ipython3",
   "version": "3.9.7"
  }
 },
 "nbformat": 4,
 "nbformat_minor": 2
}
